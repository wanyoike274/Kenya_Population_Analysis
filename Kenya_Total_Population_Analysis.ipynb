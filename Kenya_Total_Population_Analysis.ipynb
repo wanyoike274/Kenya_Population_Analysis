{
 "cells": [
  {
   "cell_type": "markdown",
   "id": "59f821f6",
   "metadata": {},
   "source": [
    "# Import modules"
   ]
  },
  {
   "cell_type": "code",
   "execution_count": 11,
   "id": "db446ad9",
   "metadata": {},
   "outputs": [],
   "source": [
    "import pandas as pd\n",
    "import matplotlib.pyplot as plt"
   ]
  },
  {
   "cell_type": "markdown",
   "id": "cddf0ab5",
   "metadata": {},
   "source": [
    "# Load Data"
   ]
  },
  {
   "cell_type": "code",
   "execution_count": 9,
   "id": "4614a1e7",
   "metadata": {},
   "outputs": [],
   "source": [
    "data = pd.read_csv(\"Population2.csv\")"
   ]
  },
  {
   "cell_type": "code",
   "execution_count": 10,
   "id": "352d3343",
   "metadata": {},
   "outputs": [
    {
     "data": {
      "text/html": [
       "<div>\n",
       "<style scoped>\n",
       "    .dataframe tbody tr th:only-of-type {\n",
       "        vertical-align: middle;\n",
       "    }\n",
       "\n",
       "    .dataframe tbody tr th {\n",
       "        vertical-align: top;\n",
       "    }\n",
       "\n",
       "    .dataframe thead th {\n",
       "        text-align: right;\n",
       "    }\n",
       "</style>\n",
       "<table border=\"1\" class=\"dataframe\">\n",
       "  <thead>\n",
       "    <tr style=\"text-align: right;\">\n",
       "      <th></th>\n",
       "      <th>Year</th>\n",
       "      <th>1969</th>\n",
       "      <th>1970</th>\n",
       "      <th>1971</th>\n",
       "      <th>1972</th>\n",
       "      <th>1973</th>\n",
       "      <th>1974</th>\n",
       "      <th>1975</th>\n",
       "      <th>1976</th>\n",
       "      <th>1977</th>\n",
       "      <th>...</th>\n",
       "      <th>2012</th>\n",
       "      <th>2013</th>\n",
       "      <th>2014</th>\n",
       "      <th>2015</th>\n",
       "      <th>2016</th>\n",
       "      <th>2017</th>\n",
       "      <th>2018</th>\n",
       "      <th>2019</th>\n",
       "      <th>2020</th>\n",
       "      <th>2021</th>\n",
       "    </tr>\n",
       "  </thead>\n",
       "  <tbody>\n",
       "    <tr>\n",
       "      <th>0</th>\n",
       "      <td>Population</td>\n",
       "      <td>10.94</td>\n",
       "      <td>11.252466</td>\n",
       "      <td>11.657479</td>\n",
       "      <td>12.083165</td>\n",
       "      <td>12.52981</td>\n",
       "      <td>12.997447</td>\n",
       "      <td>13.486241</td>\n",
       "      <td>13.995974</td>\n",
       "      <td>14.527187</td>\n",
       "      <td>...</td>\n",
       "      <td>42.542978</td>\n",
       "      <td>43.692881</td>\n",
       "      <td>43</td>\n",
       "      <td>43.3</td>\n",
       "      <td>44.3</td>\n",
       "      <td>45.3</td>\n",
       "      <td>46.4</td>\n",
       "      <td>47.6</td>\n",
       "      <td>48.5</td>\n",
       "      <td>49.4</td>\n",
       "    </tr>\n",
       "  </tbody>\n",
       "</table>\n",
       "<p>1 rows × 54 columns</p>\n",
       "</div>"
      ],
      "text/plain": [
       "         Year   1969       1970       1971       1972      1973       1974  \\\n",
       "0  Population  10.94  11.252466  11.657479  12.083165  12.52981  12.997447   \n",
       "\n",
       "        1975       1976       1977  ...       2012       2013  2014  2015  \\\n",
       "0  13.486241  13.995974  14.527187  ...  42.542978  43.692881    43  43.3   \n",
       "\n",
       "   2016  2017  2018  2019  2020  2021  \n",
       "0  44.3  45.3  46.4  47.6  48.5  49.4  \n",
       "\n",
       "[1 rows x 54 columns]"
      ]
     },
     "execution_count": 10,
     "metadata": {},
     "output_type": "execute_result"
    }
   ],
   "source": [
    "data"
   ]
  },
  {
   "cell_type": "markdown",
   "id": "89cc72a0",
   "metadata": {},
   "source": [
    "# Extract the years and population from the DataFrame"
   ]
  },
  {
   "cell_type": "code",
   "execution_count": 13,
   "id": "808f613f",
   "metadata": {},
   "outputs": [],
   "source": [
    "years = data.columns[1:]\n",
    "population = data.iloc[0, 1:].values\n"
   ]
  },
  {
   "cell_type": "code",
   "execution_count": 14,
   "id": "6ef1023c",
   "metadata": {},
   "outputs": [
    {
     "data": {
      "text/plain": [
       "Index(['1969', '1970', '1971', '1972', '1973', '1974', '1975', '1976', '1977',\n",
       "       '1978', '1979', '1980', '1981', '1982', '1983', '1984', '1985', '1986',\n",
       "       '1987', '1988', '1989', '1990', '1991', '1992', '1993', '1994', '1995',\n",
       "       '1996', '1997', '1998', '1999', '2000', '2001', '2002', '2003', '2004',\n",
       "       '2005', '2006', '2007', '2008', '2009', '2010', '2011', '2012', '2013',\n",
       "       '2014', '2015', '2016', '2017', '2018', '2019', '2020', '2021'],\n",
       "      dtype='object')"
      ]
     },
     "execution_count": 14,
     "metadata": {},
     "output_type": "execute_result"
    }
   ],
   "source": [
    "years"
   ]
  },
  {
   "cell_type": "code",
   "execution_count": 15,
   "id": "70ea656e",
   "metadata": {},
   "outputs": [
    {
     "data": {
      "text/plain": [
       "array([10.94, 11.252466, 11.657479, 12.083165, 12.52981, 12.997447,\n",
       "       13.486241, 13.995974, 14.527187, 15.081598, 15.661414, 16.267906,\n",
       "       16.901181, 17.559778, 18.241331, 18.942599, 19.660713, 20.393724,\n",
       "       21.140344, 21.899004, 22.668238, 23.446229, 24.234087, 25.029754,\n",
       "       25.824736, 26.608089, 27.373035, 28.116027, 28.842245, 29.564614,\n",
       "       30.30124, 31.06582, 31.86328, 32.69198, 33.551079, 34.43746,\n",
       "       35.34904, 36.286015, 37.25054, 38.244442, 39.269988, 40.328313,\n",
       "       41.419954, 42.542978, 43.692881, 43, 43.3, 44.3, 45.3, 46.4, 47.6,\n",
       "       48.5, 49.4], dtype=object)"
      ]
     },
     "execution_count": 15,
     "metadata": {},
     "output_type": "execute_result"
    }
   ],
   "source": [
    "population"
   ]
  },
  {
   "cell_type": "code",
   "execution_count": 17,
   "id": "5b64f631",
   "metadata": {},
   "outputs": [
    {
     "data": {
      "text/plain": [
       "numpy.ndarray"
      ]
     },
     "execution_count": 17,
     "metadata": {},
     "output_type": "execute_result"
    }
   ],
   "source": [
    "type(population)"
   ]
  },
  {
   "cell_type": "code",
   "execution_count": 20,
   "id": "d8d9b65b",
   "metadata": {},
   "outputs": [
    {
     "data": {
      "text/plain": [
       "pandas.core.indexes.base.Index"
      ]
     },
     "execution_count": 20,
     "metadata": {},
     "output_type": "execute_result"
    }
   ],
   "source": [
    "type(years)"
   ]
  },
  {
   "cell_type": "code",
   "execution_count": 21,
   "id": "a7bda7aa",
   "metadata": {},
   "outputs": [],
   "source": [
    "years = pd.to_numeric(years)\n"
   ]
  },
  {
   "cell_type": "code",
   "execution_count": 22,
   "id": "546fcb14",
   "metadata": {},
   "outputs": [
    {
     "data": {
      "text/plain": [
       "pandas.core.indexes.base.Index"
      ]
     },
     "execution_count": 22,
     "metadata": {},
     "output_type": "execute_result"
    }
   ],
   "source": [
    "type(years)"
   ]
  },
  {
   "cell_type": "markdown",
   "id": "0ba97dd3",
   "metadata": {},
   "source": [
    "# Plot the graph"
   ]
  },
  {
   "cell_type": "code",
   "execution_count": 28,
   "id": "f2c2b3d7",
   "metadata": {},
   "outputs": [
    {
     "data": {
      "text/plain": [
       "Text(0.5, 1.0, 'Population over years')"
      ]
     },
     "execution_count": 28,
     "metadata": {},
     "output_type": "execute_result"
    },
    {
     "data": {
      "image/png": "[encoded data removed]",
      "text/plain": [
       "<Figure size 640x480 with 1 Axes>"
      ]
     },
     "metadata": {},
     "output_type": "display_data"
    }
   ],
   "source": [
    "plt.plot(years, population)\n",
    "plt.ylabel (\"Population\")\n",
    "plt.xlabel(\"Years\")\n",
    "plt.title(\"Population over years\")"
   ]
  },
  {
   "cell_type": "code",
   "execution_count": 37,
   "id": "d1c52cf6",
   "metadata": {},
   "outputs": [
    {
     "data": {
      "text/plain": [
       "<matplotlib.legend.Legend at 0x8cf0c12eb0>"
      ]
     },
     "execution_count": 37,
     "metadata": {},
     "output_type": "execute_result"
    },
    {
     "data": {
      "image/png": "[encoded data removed]",
      "text/plain": [
       "<Figure size 640x480 with 1 Axes>"
      ]
     },
     "metadata": {},
     "output_type": "display_data"
    }
   ],
   "source": [
    "plt.bar(years, population)\n",
    "plt.ylabel (\"Population\")\n",
    "plt.xlabel(\"Years\")\n",
    "plt.title(\"Population over years\")\n",
    "\n",
    "#plt.xticks(rotation=90)\n",
    "plt.plot(years, population, color='red', linewidth=1, marker='o', markersize=4, label='Population Trend')\n",
    "plt.legend()"
   ]
  },
  {
   "cell_type": "code",
   "execution_count": null,
   "id": "0bce64ea",
   "metadata": {},
   "outputs": [],
   "source": []
  }
 ],
 "metadata": {
  "kernelspec": {
   "display_name": "Python 3 (ipykernel)",
   "language": "python",
   "name": "python3"
  },
  "language_info": {
   "codemirror_mode": {
    "name": "ipython",
    "version": 3
   },
   "file_extension": ".py",
   "mimetype": "text/x-python",
   "name": "python",
   "nbconvert_exporter": "python",
   "pygments_lexer": "ipython3",
   "version": "3.8.5"
  }
 },
 "nbformat": 4,
 "nbformat_minor": 5
}
