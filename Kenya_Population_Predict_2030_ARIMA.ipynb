{
 "cells": [
  {
   "cell_type": "markdown",
   "id": "61f062f8",
   "metadata": {},
   "source": [
    "# Import modules"
   ]
  },
  {
   "cell_type": "code",
   "execution_count": 7,
   "id": "abbc2ddf",
   "metadata": {},
   "outputs": [],
   "source": [
    "import pandas as pd\n",
    "import matplotlib.pyplot as plt\n",
    "from statsmodels.tsa.arima.model import ARIMA"
   ]
  },
  {
   "cell_type": "markdown",
   "id": "5ae290d4",
   "metadata": {},
   "source": [
    "# load data"
   ]
  },
  {
   "cell_type": "code",
   "execution_count": 8,
   "id": "a2519548",
   "metadata": {},
   "outputs": [],
   "source": [
    "data = pd.read_csv(\"Population2.csv\")"
   ]
  },
  {
   "cell_type": "code",
   "execution_count": 9,
   "id": "693b3016",
   "metadata": {},
   "outputs": [
    {
     "data": {
      "text/html": [
       "<div>\n",
       "<style scoped>\n",
       "    .dataframe tbody tr th:only-of-type {\n",
       "        vertical-align: middle;\n",
       "    }\n",
       "\n",
       "    .dataframe tbody tr th {\n",
       "        vertical-align: top;\n",
       "    }\n",
       "\n",
       "    .dataframe thead th {\n",
       "        text-align: right;\n",
       "    }\n",
       "</style>\n",
       "<table border=\"1\" class=\"dataframe\">\n",
       "  <thead>\n",
       "    <tr style=\"text-align: right;\">\n",
       "      <th></th>\n",
       "      <th>Year</th>\n",
       "      <th>1969</th>\n",
       "      <th>1970</th>\n",
       "      <th>1971</th>\n",
       "      <th>1972</th>\n",
       "      <th>1973</th>\n",
       "      <th>1974</th>\n",
       "      <th>1975</th>\n",
       "      <th>1976</th>\n",
       "      <th>1977</th>\n",
       "      <th>...</th>\n",
       "      <th>2012</th>\n",
       "      <th>2013</th>\n",
       "      <th>2014</th>\n",
       "      <th>2015</th>\n",
       "      <th>2016</th>\n",
       "      <th>2017</th>\n",
       "      <th>2018</th>\n",
       "      <th>2019</th>\n",
       "      <th>2020</th>\n",
       "      <th>2021</th>\n",
       "    </tr>\n",
       "  </thead>\n",
       "  <tbody>\n",
       "    <tr>\n",
       "      <th>0</th>\n",
       "      <td>Population</td>\n",
       "      <td>10.94</td>\n",
       "      <td>11.252466</td>\n",
       "      <td>11.657479</td>\n",
       "      <td>12.083165</td>\n",
       "      <td>12.52981</td>\n",
       "      <td>12.997447</td>\n",
       "      <td>13.486241</td>\n",
       "      <td>13.995974</td>\n",
       "      <td>14.527187</td>\n",
       "      <td>...</td>\n",
       "      <td>42.542978</td>\n",
       "      <td>43.692881</td>\n",
       "      <td>43</td>\n",
       "      <td>43.3</td>\n",
       "      <td>44.3</td>\n",
       "      <td>45.3</td>\n",
       "      <td>46.4</td>\n",
       "      <td>47.6</td>\n",
       "      <td>48.5</td>\n",
       "      <td>49.4</td>\n",
       "    </tr>\n",
       "  </tbody>\n",
       "</table>\n",
       "<p>1 rows × 54 columns</p>\n",
       "</div>"
      ],
      "text/plain": [
       "         Year   1969       1970       1971       1972      1973       1974  \\\n",
       "0  Population  10.94  11.252466  11.657479  12.083165  12.52981  12.997447   \n",
       "\n",
       "        1975       1976       1977  ...       2012       2013  2014  2015  \\\n",
       "0  13.486241  13.995974  14.527187  ...  42.542978  43.692881    43  43.3   \n",
       "\n",
       "   2016  2017  2018  2019  2020  2021  \n",
       "0  44.3  45.3  46.4  47.6  48.5  49.4  \n",
       "\n",
       "[1 rows x 54 columns]"
      ]
     },
     "execution_count": 9,
     "metadata": {},
     "output_type": "execute_result"
    }
   ],
   "source": [
    "data"
   ]
  },
  {
   "cell_type": "markdown",
   "id": "6fb9ba15",
   "metadata": {},
   "source": [
    "# Extract the years and population from the DataFrame"
   ]
  },
  {
   "cell_type": "code",
   "execution_count": 13,
   "id": "43a07399",
   "metadata": {},
   "outputs": [],
   "source": [
    "years = data.columns[1:]\n",
    "population = data.iloc[0, 1:].values"
   ]
  },
  {
   "cell_type": "markdown",
   "id": "95661b85",
   "metadata": {},
   "source": [
    "# Convert population and years to numeric values"
   ]
  },
  {
   "cell_type": "code",
   "execution_count": 18,
   "id": "3d111658",
   "metadata": {},
   "outputs": [],
   "source": [
    "population = pd.to_numeric(population)\n",
    "years = pd.to_numeric(years)"
   ]
  },
  {
   "cell_type": "markdown",
   "id": "72c3774b",
   "metadata": {},
   "source": [
    "# Create a pandas Series with the population data"
   ]
  },
  {
   "cell_type": "code",
   "execution_count": 20,
   "id": "b440ce93",
   "metadata": {},
   "outputs": [],
   "source": [
    "population_series = pd.Series(population, index = years)"
   ]
  },
  {
   "cell_type": "markdown",
   "id": "bf25462d",
   "metadata": {},
   "source": [
    "# plot the time series data"
   ]
  },
  {
   "cell_type": "code",
   "execution_count": 16,
   "id": "f6320cec",
   "metadata": {},
   "outputs": [
    {
     "data": {
      "image/png": "[encoded data removed]",
      "text/plain": [
       "<Figure size 640x480 with 1 Axes>"
      ]
     },
     "metadata": {},
     "output_type": "display_data"
    }
   ],
   "source": [
    "plt.plot(population_series)\n",
    "plt.xlabel(\"Population\")\n",
    "plt.ylabel(\"Years\")\n",
    "plt.show()"
   ]
  },
  {
   "cell_type": "markdown",
   "id": "a2678032",
   "metadata": {},
   "source": [
    "# Fit an ARIMA model to the time series data"
   ]
  },
  {
   "cell_type": "code",
   "execution_count": 21,
   "id": "876598d7",
   "metadata": {},
   "outputs": [
    {
     "name": "stderr",
     "output_type": "stream",
     "text": [
      "c:\\users\\wanyoike\\appdata\\local\\programs\\python\\python38\\lib\\site-packages\\statsmodels\\tsa\\base\\tsa_model.py:473: ValueWarning: An unsupported index was provided and will be ignored when e.g. forecasting.\n",
      "  self._init_dates(dates, freq)\n",
      "c:\\users\\wanyoike\\appdata\\local\\programs\\python\\python38\\lib\\site-packages\\statsmodels\\tsa\\base\\tsa_model.py:473: ValueWarning: An unsupported index was provided and will be ignored when e.g. forecasting.\n",
      "  self._init_dates(dates, freq)\n",
      "c:\\users\\wanyoike\\appdata\\local\\programs\\python\\python38\\lib\\site-packages\\statsmodels\\tsa\\base\\tsa_model.py:473: ValueWarning: An unsupported index was provided and will be ignored when e.g. forecasting.\n",
      "  self._init_dates(dates, freq)\n"
     ]
    }
   ],
   "source": [
    "model = ARIMA(population_series, order = (1, 1, 1))\n",
    "model_fit = model.fit()"
   ]
  },
  {
   "cell_type": "markdown",
   "id": "eb9017da",
   "metadata": {},
   "source": [
    "# Forecast future population values"
   ]
  },
  {
   "cell_type": "code",
   "execution_count": 22,
   "id": "bcfeb1de",
   "metadata": {},
   "outputs": [
    {
     "name": "stderr",
     "output_type": "stream",
     "text": [
      "c:\\users\\wanyoike\\appdata\\local\\programs\\python\\python38\\lib\\site-packages\\statsmodels\\tsa\\base\\tsa_model.py:836: ValueWarning: No supported index is available. Prediction results will be given with an integer index beginning at `start`.\n",
      "  return get_prediction_index(\n",
      "c:\\users\\wanyoike\\appdata\\local\\programs\\python\\python38\\lib\\site-packages\\statsmodels\\tsa\\base\\tsa_model.py:836: FutureWarning: No supported index is available. In the next version, calling this method in a model without a supported index will result in an exception.\n",
      "  return get_prediction_index(\n"
     ]
    }
   ],
   "source": [
    "future_years = pd.Index(range(2022, 2031))\n",
    "forecast = model_fit.predict(start=len(population_series), end=len(population_series) + 8)"
   ]
  },
  {
   "cell_type": "markdown",
   "id": "eb3acafd",
   "metadata": {},
   "source": [
    "# Plot the forecasted values"
   ]
  },
  {
   "cell_type": "code",
   "execution_count": 25,
   "id": "f9940506",
   "metadata": {},
   "outputs": [
    {
     "data": {
      "image/png": "[encoded data removed]",
      "text/plain": [
       "<Figure size 640x480 with 1 Axes>"
      ]
     },
     "metadata": {},
     "output_type": "display_data"
    }
   ],
   "source": [
    "plt.plot(population_series, label='Actual')\n",
    "plt.plot(future_years, forecast, label='Forecast')\n",
    "plt.xlabel('Year')\n",
    "plt.ylabel('Population')\n",
    "plt.title('Population Forecast')\n",
    "plt.legend()\n",
    "plt.show()"
   ]
  },
  {
   "cell_type": "code",
   "execution_count": 27,
   "id": "df1bb69c",
   "metadata": {},
   "outputs": [
    {
     "data": {
      "text/plain": [
       "<matplotlib.legend.Legend at 0xd5c7dc63d0>"
      ]
     },
     "execution_count": 27,
     "metadata": {},
     "output_type": "execute_result"
    },
    {
     "data": {
      "image/png": "[encoded data removed]",
      "text/plain": [
       "<Figure size 640x480 with 1 Axes>"
      ]
     },
     "metadata": {},
     "output_type": "display_data"
    }
   ],
   "source": [
    "plt.bar(future_years, forecast, label='Forecast')\n",
    "plt.xlabel(\"Years\")\n",
    "plt.ylabel(\"Population\")\n",
    "plt.legend()"
   ]
  },
  {
   "cell_type": "markdown",
   "id": "17239a2e",
   "metadata": {},
   "source": [
    "# Print the population forecast for 2030\n"
   ]
  },
  {
   "cell_type": "code",
   "execution_count": 29,
   "id": "4f9bc34b",
   "metadata": {},
   "outputs": [
    {
     "name": "stdout",
     "output_type": "stream",
     "text": [
      "Population forecast for 2030: 57.24305710018573\n"
     ]
    }
   ],
   "source": [
    "# Print the population forecast for 2030\n",
    "print(\"Population forecast for 2030:\", forecast[future_years == 2030].values[0])\n"
   ]
  },
  {
   "cell_type": "markdown",
   "id": "7a3ee7e5",
   "metadata": {},
   "source": [
    "# Print the population for the years 2022 to 2030"
   ]
  },
  {
   "cell_type": "code",
   "execution_count": 31,
   "id": "77567c95",
   "metadata": {},
   "outputs": [
    {
     "name": "stdout",
     "output_type": "stream",
     "text": [
      "Population forecast for 2022 : 50.280422\n",
      "Population forecast for 2023 : 51.158587\n",
      "Population forecast for 2024 : 52.034502\n",
      "Population forecast for 2025 : 52.908173\n",
      "Population forecast for 2026 : 53.779604\n",
      "Population forecast for 2027 : 54.648803\n",
      "Population forecast for 2028 : 55.515774\n",
      "Population forecast for 2029 : 56.380524\n",
      "Population forecast for 2030 : 57.243057\n"
     ]
    }
   ],
   "source": [
    "# Display the forecasted population values for 2022 to 2030\n",
    "for year, forecast_value in zip(future_years, forecast):\n",
    "    if year >= 2022 and year <= 2030:\n",
    "        print(\"Population forecast for\", year, \":\", \"{:.6f}\".format(forecast_value))\n"
   ]
  },
  {
   "cell_type": "code",
   "execution_count": null,
   "id": "8f4f01b6",
   "metadata": {},
   "outputs": [],
   "source": []
  }
 ],
 "metadata": {
  "kernelspec": {
   "display_name": "Python 3 (ipykernel)",
   "language": "python",
   "name": "python3"
  },
  "language_info": {
   "codemirror_mode": {
    "name": "ipython",
    "version": 3
   },
   "file_extension": ".py",
   "mimetype": "text/x-python",
   "name": "python",
   "nbconvert_exporter": "python",
   "pygments_lexer": "ipython3",
   "version": "3.8.5"
  }
 },
 "nbformat": 4,
 "nbformat_minor": 5
}
